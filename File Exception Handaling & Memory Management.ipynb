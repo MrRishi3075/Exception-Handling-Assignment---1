{
 "cells": [
  {
   "cell_type": "markdown",
   "id": "238804aa-aa4a-4600-bbc6-9311f8e7c2ab",
   "metadata": {},
   "source": [
    "### Q1.  What is an Exception in p\u000b",
    "ython? Write the differen,e between Exceptions and Syntax errors."
   ]
  },
  {
   "cell_type": "raw",
   "id": "2b100651-767d-47f7-a55b-4c36d6162cbf",
   "metadata": {},
   "source": [
    "There are different types of exceptions in Python, and they are used to handle various error conditions. Some common built-in exceptions in Python include TypeError, ValueError, FileNotFoundError, and ZeroDivisionError. These exceptions are predefined by Python and are raised when specific types of errors occur.\n",
    "\n",
    "Differences between exceptions and syntax errors:"
   ]
  },
  {
   "cell_type": "markdown",
   "id": "0357bbcc-2273-46fb-9168-379415db0b56",
   "metadata": {},
   "source": [
    "1.Exceptions: Exceptions occur during the execution of a program when an error condition is encountered. They can be anticipated and handled using try-except blocks. \n",
    "Exceptions are typically caused by factors such as invalid user input, file I/O errors, or division by zero.\n",
    "Examples of exceptions include TypeError, ValueError, and ZeroDivisionError."
   ]
  },
  {
   "cell_type": "markdown",
   "id": "5c652d60-cf43-46af-a05e-174d3052c8bf",
   "metadata": {},
   "source": [
    "2. Syntax errors: Syntax errors, also known as parsing errors, occur when the Python interpreter encounters invalid code syntax. \n",
    "These errors prevent the program from running at all. \n",
    "Syntax errors are usually caused by mistakes such as missing colons, parentheses, or incorrect indentation.\n",
    "They need to be fixed before the program can be executed."
   ]
  },
  {
   "cell_type": "markdown",
   "id": "e008b93b-ef29-4883-a03c-47785439a57c",
   "metadata": {},
   "source": [
    "To summarize, exceptions are runtime errors that occur during program execution,\n",
    "while syntax errors are detected by the Python interpreter before the program begins to run, due to invalid code syntax."
   ]
  },
  {
   "cell_type": "markdown",
   "id": "cff3428e-1889-4e84-bc0e-dd34cb675e5d",
   "metadata": {},
   "source": [
    "### Q2. What hppens when an exception is not hndled? Explin with n exmple\u001e"
   ]
  },
  {
   "cell_type": "markdown",
   "id": "db901eba-9e2b-4a10-b2f7-12cc6cfefa3d",
   "metadata": {},
   "source": [
    "When an exception is not handled in Python, it leads to a runtime error and the program terminates abruptly.\n",
    "This termination is accompanied by an error message, commonly known as a traceback, which provides information about the type of exception that occurred,\n",
    "the line of code where the exception was raised, and the sequence of function calls that led to the exception.\n",
    "\n",
    "### Here's an example to illustrate what happens when an exception is not handled:"
   ]
  },
  {
   "cell_type": "code",
   "execution_count": 1,
   "id": "737c8922-afa5-48dd-97df-f1659f33d6b8",
   "metadata": {},
   "outputs": [
    {
     "ename": "ZeroDivisionError",
     "evalue": "division by zero",
     "output_type": "error",
     "traceback": [
      "\u001b[0;31m---------------------------------------------------------------------------\u001b[0m",
      "\u001b[0;31mZeroDivisionError\u001b[0m                         Traceback (most recent call last)",
      "Cell \u001b[0;32mIn[1], line 8\u001b[0m\n\u001b[1;32m      5\u001b[0m numerator \u001b[38;5;241m=\u001b[39m \u001b[38;5;241m10\u001b[39m\n\u001b[1;32m      6\u001b[0m denominator \u001b[38;5;241m=\u001b[39m \u001b[38;5;241m0\u001b[39m\n\u001b[0;32m----> 8\u001b[0m result \u001b[38;5;241m=\u001b[39m \u001b[43mdivide_numbers\u001b[49m\u001b[43m(\u001b[49m\u001b[43mnumerator\u001b[49m\u001b[43m,\u001b[49m\u001b[43m \u001b[49m\u001b[43mdenominator\u001b[49m\u001b[43m)\u001b[49m\n\u001b[1;32m      9\u001b[0m \u001b[38;5;28mprint\u001b[39m(result)\n",
      "Cell \u001b[0;32mIn[1], line 2\u001b[0m, in \u001b[0;36mdivide_numbers\u001b[0;34m(a, b)\u001b[0m\n\u001b[1;32m      1\u001b[0m \u001b[38;5;28;01mdef\u001b[39;00m \u001b[38;5;21mdivide_numbers\u001b[39m(a, b):\n\u001b[0;32m----> 2\u001b[0m     result \u001b[38;5;241m=\u001b[39m \u001b[43ma\u001b[49m\u001b[43m \u001b[49m\u001b[38;5;241;43m/\u001b[39;49m\u001b[43m \u001b[49m\u001b[43mb\u001b[49m\n\u001b[1;32m      3\u001b[0m     \u001b[38;5;28;01mreturn\u001b[39;00m result\n",
      "\u001b[0;31mZeroDivisionError\u001b[0m: division by zero"
     ]
    }
   ],
   "source": [
    "def divide_numbers(a, b):\n",
    "    result = a / b\n",
    "    return result\n",
    "\n",
    "numerator = 10\n",
    "denominator = 0\n",
    "\n",
    "result = divide_numbers(numerator, denominator)\n",
    "print(result)\n"
   ]
  },
  {
   "cell_type": "markdown",
   "id": "9c3c33af-ac7a-446b-b6bc-07d6a097246f",
   "metadata": {},
   "source": [
    "### Q3 Which Python sttements are used to catch and hndle exceptions? Explain with an example?"
   ]
  },
  {
   "cell_type": "markdown",
   "id": "cbaf6587-c94b-4634-8ed6-bc6c26bde875",
   "metadata": {},
   "source": [
    "In Python, the try-except statements are used to catch and handle exceptions.\n",
    "The try block contains the code that may raise an exception,\n",
    "while the except block specifies the actions to be taken if a specific exception is encountered.\n",
    "\n",
    "Here's an example that demonstrates the usage of try-except statements:"
   ]
  },
  {
   "cell_type": "code",
   "execution_count": 3,
   "id": "ecfa6ab0-a34e-4010-aa3c-3deee2c3b71e",
   "metadata": {},
   "outputs": [
    {
     "name": "stdout",
     "output_type": "stream",
     "text": [
      "Error: Division by zero is not allowed.\n"
     ]
    }
   ],
   "source": [
    "def divide_numbers(a, b):\n",
    "    try:\n",
    "        result = a / b\n",
    "        print(\"Division result:\", result)\n",
    "    except ZeroDivisionError:\n",
    "        print(\"Error: Division by zero is not allowed.\")\n",
    "\n",
    "numerator = 10\n",
    "denominator = 0\n",
    "\n",
    "divide_numbers(numerator, denominator)\n"
   ]
  },
  {
   "cell_type": "markdown",
   "id": "6a636df8-ffec-4287-8055-d71952711e52",
   "metadata": {},
   "source": [
    "### Q4. Explin with an exmple:\n",
    "A. Try And Else\n",
    "B. Finnaly\n",
    "C. Raise"
   ]
  },
  {
   "cell_type": "code",
   "execution_count": 4,
   "id": "573677b3-aa91-440b-ab53-63c106a4840a",
   "metadata": {},
   "outputs": [
    {
     "name": "stdout",
     "output_type": "stream",
     "text": [
      "Division result: 5.0\n",
      "Division operation complete.\n"
     ]
    }
   ],
   "source": [
    "def divide_numbers(a, b):\n",
    "    try:\n",
    "        result = a / b\n",
    "    except ZeroDivisionError:\n",
    "        print(\"Error: Division by zero is not allowed.\")\n",
    "    else:\n",
    "        print(\"Division result:\", result)\n",
    "    finally:\n",
    "        print(\"Division operation complete.\")\n",
    "\n",
    "numerator = 10\n",
    "denominator = 2\n",
    "\n",
    "divide_numbers(numerator, denominator)\n"
   ]
  },
  {
   "cell_type": "code",
   "execution_count": 5,
   "id": "5990e209-be8c-4a46-bc4a-27cb3ef6a91d",
   "metadata": {},
   "outputs": [
    {
     "name": "stdout",
     "output_type": "stream",
     "text": [
      "Error: Division by zero is not allowed.\n",
      "Division operation complete.\n"
     ]
    }
   ],
   "source": [
    "numerator = 10\n",
    "denominator = 0\n",
    "\n",
    "divide_numbers(numerator, denominator)\n"
   ]
  },
  {
   "cell_type": "markdown",
   "id": "4b7ba831-d0f6-466f-8144-8a2b4f67ce85",
   "metadata": {},
   "source": [
    "### Q5. What are Custom Exceptions in python? Why do we need Custom Exeptions? Explin with an exmple.\n"
   ]
  },
  {
   "cell_type": "markdown",
   "id": "0061596e-e24e-446d-9fc0-25af2fef3c59",
   "metadata": {},
   "source": [
    "In Python, custom exceptions are user-defined exception classes that inherit from the built-in Exception class or its subclasses. They allow you to define and raise your own exceptions to handle specific error conditions or exceptional cases in your code."
   ]
  },
  {
   "cell_type": "markdown",
   "id": "1eac3aa3-a4dd-4691-9b06-d8d78f4446d4",
   "metadata": {},
   "source": [
    "Custom exceptions are useful for several reasons:"
   ]
  },
  {
   "cell_type": "markdown",
   "id": "8fba35a0-e3fa-4afe-9917-0380740b9297",
   "metadata": {},
   "source": [
    "### Specific error handling:\n",
    "Custom exceptions help in providing more specific and meaningful error messages for exceptional cases in your code. By creating custom exception classes, you can differentiate between different types of errors and handle them accordingly.\n",
    "\n",
    "### Modularity and readability:\n",
    "By defining custom exceptions, you can encapsulate error handling logic within the exception class itself. This improves the modularity and readability of your code by separating the exception handling code from the rest of your program.\n",
    "\n",
    "### Consistent error handling:\n",
    "Custom exceptions allow you to create a consistent approach to handle specific errors across your codebase. You can define common methods or attributes in the custom exception classes to provide standardized error handling behavior.\n",
    "\n",
    "Here's an example that demonstrates the creation and usage of a custom exception in Python:"
   ]
  },
  {
   "cell_type": "code",
   "execution_count": 8,
   "id": "ac853586-21e6-4383-9f76-9eb5ef6e8fc7",
   "metadata": {},
   "outputs": [
    {
     "name": "stdin",
     "output_type": "stream",
     "text": [
      "Enter a positive number:  -5\n"
     ]
    },
    {
     "name": "stdout",
     "output_type": "stream",
     "text": [
      "Error: Invalid input value: Value cannot be negative.\n"
     ]
    }
   ],
   "source": [
    "class InvalidInputError(Exception):\n",
    "    pass\n",
    "\n",
    "def process_input(value):\n",
    "    if value < 0:\n",
    "        raise InvalidInputError(\"Invalid input value: Value cannot be negative.\")\n",
    "    # Rest of the code\n",
    "\n",
    "try:\n",
    "    user_input = int(input(\"Enter a positive number: \"))\n",
    "    process_input(user_input)\n",
    "except InvalidInputError as e:\n",
    "    print(\"Error:\", str(e))\n"
   ]
  },
  {
   "cell_type": "code",
   "execution_count": 9,
   "id": "072202da-ea0c-4c7e-87e8-fbc41832a9a4",
   "metadata": {},
   "outputs": [
    {
     "name": "stdin",
     "output_type": "stream",
     "text": [
      "Enter a positive number:  +88\n"
     ]
    }
   ],
   "source": [
    "class InvalidInputError(Exception):\n",
    "    pass\n",
    "\n",
    "def process_input(value):\n",
    "    if value < 0:\n",
    "        raise InvalidInputError(\"Invalid input value: Value cannot be negative.\")\n",
    "    # Rest of the code\n",
    "\n",
    "try:\n",
    "    user_input = int(input(\"Enter a positive number: \"))\n",
    "    process_input(user_input)\n",
    "except InvalidInputError as e:\n",
    "    print(\"Error:\", str(e))\n"
   ]
  },
  {
   "cell_type": "code",
   "execution_count": null,
   "id": "56b56f55-ebe5-4652-8998-f554d6e2c620",
   "metadata": {},
   "outputs": [],
   "source": []
  },
  {
   "cell_type": "code",
   "execution_count": null,
   "id": "85c8eccf-c65c-427d-918e-6e00afd977e2",
   "metadata": {},
   "outputs": [],
   "source": []
  },
  {
   "cell_type": "code",
   "execution_count": null,
   "id": "9552fba7-745a-45e0-a3c4-253b068e316b",
   "metadata": {},
   "outputs": [],
   "source": []
  },
  {
   "cell_type": "markdown",
   "id": "18547b59-3e8d-4aa1-8dba-75e0b659c0d4",
   "metadata": {},
   "source": [
    "### Q6. Create a Custom exception class. Use this class to handle an exception."
   ]
  },
  {
   "cell_type": "code",
   "execution_count": 10,
   "id": "97222c5f-3702-4077-87ba-0369124e2734",
   "metadata": {},
   "outputs": [
    {
     "name": "stdout",
     "output_type": "stream",
     "text": [
      "Error: MyCustomException: Division by zero is not allowed.\n"
     ]
    }
   ],
   "source": [
    "class MyCustomException(Exception):\n",
    "    def __init__(self, message):\n",
    "        self.message = message\n",
    "\n",
    "    def __str__(self):\n",
    "        return f\"MyCustomException: {self.message}\"\n",
    "\n",
    "def divide_numbers(a, b):\n",
    "    if b == 0:\n",
    "        raise MyCustomException(\"Division by zero is not allowed.\")\n",
    "    else:\n",
    "        return a / b\n",
    "\n",
    "numerator = 10\n",
    "denominator = 0\n",
    "\n",
    "try:\n",
    "    result = divide_numbers(numerator, denominator)\n",
    "    print(\"Division result:\", result)\n",
    "except MyCustomException as e:\n",
    "    print(\"Error:\", e)\n"
   ]
  },
  {
   "cell_type": "code",
   "execution_count": null,
   "id": "309a0c6d-78c9-419e-aade-2bc66f548aad",
   "metadata": {},
   "outputs": [],
   "source": []
  }
 ],
 "metadata": {
  "kernelspec": {
   "display_name": "Python 3 (ipykernel)",
   "language": "python",
   "name": "python3"
  },
  "language_info": {
   "codemirror_mode": {
    "name": "ipython",
    "version": 3
   },
   "file_extension": ".py",
   "mimetype": "text/x-python",
   "name": "python",
   "nbconvert_exporter": "python",
   "pygments_lexer": "ipython3",
   "version": "3.10.8"
  }
 },
 "nbformat": 4,
 "nbformat_minor": 5
}
